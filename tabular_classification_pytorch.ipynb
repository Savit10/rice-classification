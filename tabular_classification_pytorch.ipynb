{
  "cells": [
    {
      "cell_type": "code",
      "execution_count": null,
      "metadata": {
        "colab": {
          "base_uri": "https://localhost:8080/"
        },
        "id": "4IT55E3dc8T6",
        "outputId": "48474688-30cd-4128-acbe-dc236e14d70c"
      },
      "outputs": [],
      "source": [
        "import torch\n",
        "import torch.nn as nn\n",
        "from torch.optim import Adam\n",
        "from torch.utils.data import Dataset, DataLoader\n",
        "from torchinfo import summary\n",
        "from sklearn.model_selection import train_test_split\n",
        "from sklearn.metrics import accuracy_score\n",
        "import matplotlib.pyplot as plt\n",
        "import pandas as pd\n",
        "import numpy as np"
      ]
    },
    {
      "cell_type": "code",
      "execution_count": null,
      "metadata": {},
      "outputs": [],
      "source": [
        "# First, define device setup\n",
        "def setup_device():\n",
        "    if torch.backends.mps.is_available() and torch.backends.mps.is_built():\n",
        "        device = torch.device(\"mps\")\n",
        "        torch.set_default_device(device)\n",
        "        print(\"Using MPS device\")\n",
        "    else:\n",
        "        device = torch.device(\"cpu\")\n",
        "        print(\"MPS not available, using CPU\")\n",
        "    return device\n",
        "\n",
        "# Set global device\n",
        "device = setup_device()"
      ]
    },
    {
      "cell_type": "code",
      "execution_count": null,
      "metadata": {
        "colab": {
          "base_uri": "https://localhost:8080/"
        },
        "id": "fEbgev0detNS",
        "outputId": "c6764cbc-c330-4e33-8164-11ce082c8d7d"
      },
      "outputs": [],
      "source": [
        "data = pd.read_csv(\"riceClassification.csv\")"
      ]
    },
    {
      "cell_type": "code",
      "execution_count": null,
      "metadata": {
        "id": "J7gBNQ4BfEA3"
      },
      "outputs": [],
      "source": [
        "data.dropna(inplace=True)\n",
        "data.drop(\"id\", axis=1, inplace=True)"
      ]
    },
    {
      "cell_type": "code",
      "execution_count": 5,
      "metadata": {
        "id": "aafzzGqdfYLT"
      },
      "outputs": [],
      "source": [
        "original_df = data.copy()\n",
        "for column in data.columns:\n",
        "  data[column] = data[column]/max(data[column])"
      ]
    },
    {
      "cell_type": "code",
      "execution_count": 6,
      "metadata": {
        "id": "1qd5GJgEgaKc"
      },
      "outputs": [],
      "source": [
        "X = np.array(data.iloc[:, :-1])\n",
        "Y = np.array(data.iloc[:, -1])\n",
        "X_train, X_test, Y_train, Y_test = train_test_split(X, Y, test_size=0.3, random_state=42)"
      ]
    },
    {
      "cell_type": "code",
      "execution_count": 7,
      "metadata": {
        "id": "SAd15ammhCzz"
      },
      "outputs": [],
      "source": [
        "X_test, X_validation, Y_test, Y_validation = train_test_split(X_test, Y_test, test_size=0.5, random_state=42)"
      ]
    },
    {
      "cell_type": "code",
      "execution_count": 8,
      "metadata": {
        "colab": {
          "base_uri": "https://localhost:8080/"
        },
        "id": "IR1T_GB3hOsY",
        "outputId": "1007b091-2226-412e-df55-34aeeeb07012"
      },
      "outputs": [
        {
          "name": "stdout",
          "output_type": "stream",
          "text": [
            "(12729, 10) (2728, 10) (2728, 10)\n"
          ]
        }
      ],
      "source": [
        "print(X_train.shape, X_test.shape, X_validation.shape)"
      ]
    },
    {
      "cell_type": "code",
      "execution_count": 12,
      "metadata": {
        "id": "yy_nJyzdhUXc"
      },
      "outputs": [],
      "source": [
        "class ricedataset(Dataset):\n",
        "  def __init__(self, X, Y):\n",
        "    self.X = torch.tensor(X, dtype=torch.float32)\n",
        "    self.Y = torch.tensor(Y, dtype=torch.float32)\n",
        "  def __len__(self):\n",
        "    return len(self.X)\n",
        "  def __getitem__(self, index):\n",
        "    return self.X[index], self.Y[index]"
      ]
    },
    {
      "cell_type": "code",
      "execution_count": 13,
      "metadata": {
        "id": "6a8EqnfuimiG"
      },
      "outputs": [],
      "source": [
        "training_data = ricedataset(X_train, Y_train)\n",
        "validation_data = ricedataset(X_validation, Y_validation)\n",
        "testing_data = ricedataset(X_test, Y_test)"
      ]
    },
    {
      "cell_type": "code",
      "execution_count": 14,
      "metadata": {
        "id": "qAYgZxjEiw1t"
      },
      "outputs": [],
      "source": [
        "train_dataloader = DataLoader(training_data, batch_size=32, shuffle=True)\n",
        "validation_dataloader = DataLoader(validation_data, batch_size=32, shuffle=True)\n",
        "test_dataloader = DataLoader(testing_data, batch_size=32, shuffle=True)"
      ]
    },
    {
      "cell_type": "code",
      "execution_count": 16,
      "metadata": {
        "id": "GdxuQJh_jwel"
      },
      "outputs": [],
      "source": [
        "HIDDEN_NEURONS = 10\n",
        "class model(nn.Module):\n",
        "  def __init__(self):\n",
        "    super(model, self).__init__()\n",
        "    self.input_layer = nn.Linear(X.shape[1], HIDDEN_NEURONS)\n",
        "    self.linear = nn.Linear(HIDDEN_NEURONS, 1)\n",
        "    self.sigmoid = nn.Sigmoid()\n",
        "  def forward(self, x):\n",
        "    x = self.input_layer(x)\n",
        "    x = self.linear(x)\n",
        "    x = self.sigmoid(x)\n",
        "    return x\n",
        "\n",
        "model = model()"
      ]
    },
    {
      "cell_type": "code",
      "execution_count": 17,
      "metadata": {
        "colab": {
          "base_uri": "https://localhost:8080/"
        },
        "id": "uS2wFZmsk_BN",
        "outputId": "d7d6647f-5c26-45b4-bc15-07f8905dc637"
      },
      "outputs": [
        {
          "data": {
            "text/plain": [
              "==========================================================================================\n",
              "Layer (type:depth-idx)                   Output Shape              Param #\n",
              "==========================================================================================\n",
              "model                                    [1]                       --\n",
              "├─Linear: 1-1                            [10]                      110\n",
              "├─Linear: 1-2                            [1]                       11\n",
              "├─Sigmoid: 1-3                           [1]                       --\n",
              "==========================================================================================\n",
              "Total params: 121\n",
              "Trainable params: 121\n",
              "Non-trainable params: 0\n",
              "Total mult-adds (Units.MEGABYTES): 0.00\n",
              "==========================================================================================\n",
              "Input size (MB): 0.00\n",
              "Forward/backward pass size (MB): 0.00\n",
              "Params size (MB): 0.00\n",
              "Estimated Total Size (MB): 0.00\n",
              "=========================================================================================="
            ]
          },
          "execution_count": 17,
          "metadata": {},
          "output_type": "execute_result"
        }
      ],
      "source": [
        "summary(model, input_size=(X.shape[1],))"
      ]
    },
    {
      "cell_type": "code",
      "execution_count": 19,
      "metadata": {
        "id": "rJ7Vu1EiljLV"
      },
      "outputs": [],
      "source": [
        "criterion = nn.BCELoss()\n",
        "optimizer = Adam(model.parameters(), lr = 1e-4)"
      ]
    },
    {
      "cell_type": "code",
      "execution_count": 21,
      "metadata": {
        "colab": {
          "base_uri": "https://localhost:8080/"
        },
        "id": "h5l25aWjlzFW",
        "outputId": "ab96b970-39ce-4533-e9e5-2f493eeece4f"
      },
      "outputs": [
        {
          "name": "stdout",
          "output_type": "stream",
          "text": [
            "Epoch 1/10 | Train Loss: 0.2024 | Train Accuracy: 97.541 | Validation Loss: 0.0424 | Validation Accuracy: 97.4707\n",
            "--------------------------------------------------\n",
            "Epoch 2/10 | Train Loss: 0.192 | Train Accuracy: 97.7296 | Validation Loss: 0.0401 | Validation Accuracy: 97.324\n",
            "--------------------------------------------------\n",
            "Epoch 3/10 | Train Loss: 0.1814 | Train Accuracy: 97.7689 | Validation Loss: 0.0378 | Validation Accuracy: 97.5806\n",
            "--------------------------------------------------\n",
            "Epoch 4/10 | Train Loss: 0.1709 | Train Accuracy: 97.7767 | Validation Loss: 0.0356 | Validation Accuracy: 98.4604\n",
            "--------------------------------------------------\n",
            "Epoch 5/10 | Train Loss: 0.1605 | Train Accuracy: 98.0517 | Validation Loss: 0.0333 | Validation Accuracy: 97.8739\n",
            "--------------------------------------------------\n",
            "Epoch 6/10 | Train Loss: 0.1503 | Train Accuracy: 98.0203 | Validation Loss: 0.0312 | Validation Accuracy: 98.0938\n",
            "--------------------------------------------------\n",
            "Epoch 7/10 | Train Loss: 0.1405 | Train Accuracy: 98.0438 | Validation Loss: 0.029 | Validation Accuracy: 98.3871\n",
            "--------------------------------------------------\n",
            "Epoch 8/10 | Train Loss: 0.131 | Train Accuracy: 98.1145 | Validation Loss: 0.027 | Validation Accuracy: 98.4604\n",
            "--------------------------------------------------\n",
            "Epoch 9/10 | Train Loss: 0.1219 | Train Accuracy: 98.1381 | Validation Loss: 0.0251 | Validation Accuracy: 98.4604\n",
            "--------------------------------------------------\n",
            "Epoch 10/10 | Train Loss: 0.1133 | Train Accuracy: 98.1617 | Validation Loss: 0.0232 | Validation Accuracy: 98.4604\n",
            "--------------------------------------------------\n"
          ]
        }
      ],
      "source": [
        "total_loss_train_plot = []\n",
        "total_loss_validation_plot = []\n",
        "total_accuracy_train_plot = []\n",
        "total_accuracy_validation_plot = []\n",
        "# Debug device placement\n",
        "epochs = 10\n",
        "for epoch in range(epochs):\n",
        "  total_acc_train = 0\n",
        "  total_loss_train = 0\n",
        "  total_acc_validation = 0\n",
        "  total_loss_validation = 0\n",
        "  for data in train_dataloader:\n",
        "    inputs, labels = data\n",
        "    prediction = model(inputs).squeeze(1)\n",
        "    batch_loss = criterion(prediction, labels)\n",
        "    total_loss_train += batch_loss.item()\n",
        "    acc = ((prediction.round()) == labels).sum().item()\n",
        "    total_acc_train += acc\n",
        "    optimizer.zero_grad()\n",
        "    batch_loss.backward()\n",
        "    optimizer.step()\n",
        "  with torch.no_grad():\n",
        "    for data in validation_dataloader:\n",
        "      inputs, labels = data\n",
        "      prediction = model(inputs).squeeze(1)\n",
        "      batch_loss = criterion(prediction, labels)\n",
        "      total_loss_validation += batch_loss.item()\n",
        "      acc = ((prediction.round()) == labels).sum().item()\n",
        "      total_acc_validation += acc\n",
        "  total_loss_train_plot.append(round(total_loss_train/1000, 4))\n",
        "  total_loss_validation_plot.append(round(total_loss_validation/1000, 4))\n",
        "  total_accuracy_train_plot.append(round(total_acc_train/len(train_dataloader.dataset) * 100, 4))\n",
        "  total_accuracy_validation_plot.append(round(total_acc_validation/len(validation_dataloader.dataset) * 100, 4))\n",
        "\n",
        "  print(f\"Epoch {epoch+1}/{epochs} | Train Loss: {total_loss_train_plot[-1]} | Train Accuracy: {total_accuracy_train_plot[-1]} | Validation Loss: {total_loss_validation_plot[-1]} | Validation Accuracy: {total_accuracy_validation_plot[-1]}\")\n",
        "  print(\"-\"*50)"
      ]
    },
    {
      "cell_type": "code",
      "execution_count": 22,
      "metadata": {
        "colab": {
          "base_uri": "https://localhost:8080/"
        },
        "id": "RMuzy7ASrB1Z",
        "outputId": "0e25e350-31ff-4b7d-b87d-a765a57cbf1a"
      },
      "outputs": [
        {
          "name": "stdout",
          "output_type": "stream",
          "text": [
            "Test Accuracy: 98.5337\n"
          ]
        }
      ],
      "source": [
        "with torch.no_grad():\n",
        "  total_loss_test = 0\n",
        "  total_acc_test = 0\n",
        "  for data in test_dataloader:\n",
        "    inputs, labels = data\n",
        "    prediction = model(inputs).squeeze(1)\n",
        "    batch_loss = criterion(prediction, labels)\n",
        "    total_loss_test += batch_loss\n",
        "    acc = ((prediction.round()) == labels).sum().item()\n",
        "    total_acc_test += acc\n",
        "\n",
        "print(f\"Test Accuracy: {round(total_acc_test/testing_data.__len__() * 100, 4)}\")"
      ]
    },
    {
      "cell_type": "code",
      "execution_count": 23,
      "metadata": {
        "colab": {
          "base_uri": "https://localhost:8080/",
          "height": 412
        },
        "id": "IqXQrGEYljas",
        "outputId": "8d301732-a87c-4782-a32f-2cfcfed7a0f4"
      },
      "outputs": [
        {
          "data": {
            "image/png": "[encoded data removed]",
            "text/plain": [
              "<Figure size 1500x500 with 2 Axes>"
            ]
          },
          "metadata": {},
          "output_type": "display_data"
        }
      ],
      "source": [
        "fig, axs = plt.subplots(1, 2, figsize=(15, 5))\n",
        "\n",
        "axs[0].plot(total_loss_train_plot, label=\"Train Loss\")\n",
        "axs[0].plot(total_loss_validation_plot, label=\"Validation Loss\")\n",
        "axs[0].set_title(\"Loss Plot\")\n",
        "axs[0].set_xlabel(\"Epochs\")\n",
        "axs[0].set_ylabel(\"Loss\")\n",
        "axs[0].set_ylim([0,2])\n",
        "axs[0].legend()\n",
        "\n",
        "axs[1].plot(total_accuracy_train_plot, label=\"Training Accuracy\")\n",
        "axs[1].plot(total_accuracy_validation_plot, label=\"Validation Accuracy\")\n",
        "axs[1].set_title(\"Accuracy Plot\")\n",
        "axs[1].set_xlabel(\"Epochs\")\n",
        "axs[1].set_ylabel(\"Accuracy\")\n",
        "axs[1].set_ylim([0,100])\n",
        "axs[1].legend()\n",
        "\n",
        "plt.show()"
      ]
    },
    {
      "cell_type": "code",
      "execution_count": 25,
      "metadata": {
        "colab": {
          "base_uri": "https://localhost:8080/"
        },
        "id": "nWls65LkniN_",
        "outputId": "616eac77-3b92-40be-fd26-2d585a93ca5a"
      },
      "outputs": [
        {
          "name": "stdout",
          "output_type": "stream",
          "text": [
            "tensor([[0.]])\n"
          ]
        }
      ],
      "source": [
        "area = 3000/original_df['Area'].abs().max()\n",
        "MajorAxisLength = 80/original_df['MajorAxisLength'].abs().max()\n",
        "MinorAxisLength = 42/original_df['MinorAxisLength'].abs().max()\n",
        "Eccentricity = 0.75/original_df['Eccentricity'].abs().max()\n",
        "ConvexArea = 3500/original_df['ConvexArea'].abs().max()\n",
        "EquivDiameter = 45/original_df['EquivDiameter'].abs().max()\n",
        "Extent = 0.75/original_df['Perimeter'].abs().max()\n",
        "Perimeter = 150/original_df['Perimeter'].abs().max()\n",
        "Roundness = 0.75/original_df['Roundness'].abs().max()\n",
        "AspectRation = 1.3/original_df['AspectRation'].abs().max()\n",
        "\n",
        "with torch.inference_mode():\n",
        "  data_inference = torch.tensor([[area, MajorAxisLength, MinorAxisLength, Eccentricity, ConvexArea, EquivDiameter, Extent, Perimeter, Roundness, AspectRation]], dtype=torch.float32)\n",
        "  prediction = model(data_inference)\n",
        "  print(prediction)"
      ]
    },
    {
      "cell_type": "code",
      "execution_count": null,
      "metadata": {
        "id": "rpMa1s5ArHVb"
      },
      "outputs": [],
      "source": []
    }
  ],
  "metadata": {
    "accelerator": "GPU",
    "colab": {
      "gpuType": "T4",
      "provenance": []
    },
    "kernelspec": {
      "display_name": ".venv",
      "language": "python",
      "name": "python3"
    },
    "language_info": {
      "codemirror_mode": {
        "name": "ipython",
        "version": 3
      },
      "file_extension": ".py",
      "mimetype": "text/x-python",
      "name": "python",
      "nbconvert_exporter": "python",
      "pygments_lexer": "ipython3",
      "version": "3.13.2"
    }
  },
  "nbformat": 4,
  "nbformat_minor": 0
}
